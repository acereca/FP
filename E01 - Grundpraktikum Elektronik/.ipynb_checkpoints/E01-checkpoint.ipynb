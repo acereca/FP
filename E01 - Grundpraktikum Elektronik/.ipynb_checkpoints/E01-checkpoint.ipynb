{
 "cells": [
  {
   "cell_type": "markdown",
   "metadata": {},
   "source": [
    "# Versuch E01 - Grundpraktikum Elektronik"
   ]
  },
  {
   "cell_type": "code",
   "execution_count": 98,
   "metadata": {
    "collapsed": false
   },
   "outputs": [],
   "source": [
    "%matplotlib inline\n",
    "\n",
    "from uncertainties import unumpy\n",
    "import pandas as pd\n",
    "import numpy as np\n",
    "import matplotlib.pyplot as plt\n",
    "import matplotlib.ticker as tck\n",
    "\n",
    "#print(plt.style.available)"
   ]
  },
  {
   "cell_type": "code",
   "execution_count": 86,
   "metadata": {
    "collapsed": false,
    "deletable": true,
    "editable": true
   },
   "outputs": [],
   "source": [
    "def plotfreq(x, y, xerr, yerr,\\\n",
    "             xlabel='x', ylabel='y', xscale='linear', yscale='linear',\\\n",
    "             title='graph', filename='tmp', style='bmh', yticks=[], xticks=[]):\n",
    "    plt.figure(figsize=(15,10))\n",
    "    plt.style.use(style)   \n",
    "    plt.errorbar(x, y, xerr=xerr, yerr=yerr, fmt='.')\n",
    "    \n",
    "    plt.xscale(xscale)\n",
    "    plt.yscale(yscale)\n",
    "    if len(yticks) > 0:\n",
    "        plt.yticks(yticks)\n",
    "        plt.axes().get_yaxis().set_major_formatter(tck.ScalarFormatter())\n",
    "    if len(xticks) > 0:\n",
    "        plt.xticks(xticks)\n",
    "        plt.axes().get_xaxis().set_major_formatter(tck.ScalarFormatter())\n",
    "    \n",
    "    plt.xlabel(xlabel)\n",
    "    plt.ylabel(ylabel)\n",
    "    plt.title(title)\n",
    "    plt.savefig(filename+'.png')"
   ]
  },
  {
   "cell_type": "markdown",
   "metadata": {
    "deletable": true,
    "editable": true
   },
   "source": [
    "## V1 - Emitterschaltung"
   ]
  },
  {
   "cell_type": "code",
   "execution_count": 87,
   "metadata": {
    "collapsed": false,
    "deletable": true,
    "editable": true
   },
   "outputs": [
    {
     "data": {
      "text/plain": [
       "array([ 0.004395 ,  0.0013075,  0.00497  ,  0.0014985,  0.0011935,  0.0046   ])"
      ]
     },
     "execution_count": 87,
     "metadata": {},
     "output_type": "execute_result"
    }
   ],
   "source": [
    "data = np.genfromtxt('1-freq.dat', dtype=float, skip_header=0, delimiter=',')[2:]\n",
    "\n",
    "# Inbetriebnahme und Vermessung\n",
    "init = np.array([6.79,0.615,7.94,0.997,0.387,7.20])\n",
    "init*.05/100+.001"
   ]
  },
  {
   "cell_type": "code",
   "execution_count": 107,
   "metadata": {
    "collapsed": false,
    "deletable": true,
    "editable": true
   },
   "outputs": [
    {
     "data": {
      "text/plain": [
       "<matplotlib.figure.Figure at 0x7f92869e5710>"
      ]
     },
     "metadata": {},
     "output_type": "display_data"
    }
   ],
   "source": [
    "plotfreq(data[:,0], data[:,4], xerr=data[:,1], yerr=data[:,5],\\\n",
    "        xlabel='f / Hz', ylabel='$V_{pp,out}$ / V', xscale='log', yscale='log',\\\n",
    "        title='Frequenzgang der Ausgangsspannung $V_{pp,out}$',\\\n",
    "        filename='1-freqU')\n",
    "plt.clf()"
   ]
  },
  {
   "cell_type": "code",
   "execution_count": 108,
   "metadata": {
    "collapsed": false,
    "deletable": true,
    "editable": true
   },
   "outputs": [
    {
     "data": {
      "text/plain": [
       "<matplotlib.figure.Figure at 0x7f9285ad4668>"
      ]
     },
     "metadata": {},
     "output_type": "display_data"
    }
   ],
   "source": [
    "vppin = unumpy.uarray(data[:,2],data[:,3])\n",
    "vppout = unumpy.uarray(data[:,4],data[:,5])\n",
    "\n",
    "verst = vppout/vppin*1000\n",
    "\n",
    "plotfreq(data[:,0], [verst[i].n for i in range(len(verst))],\\\n",
    "         xerr=data[:,1], yerr=[verst[i].s for i in range(len(verst))],\\\n",
    "         xlabel='f / Hz', ylabel='$V_U$', xscale='log', yscale='log',\\\n",
    "         title='Frequenzgang der Verstärkung $V_U$', filename='1-freqV')\n",
    "plt.clf()\n",
    "#pd.DataFrame(verst)"
   ]
  },
  {
   "cell_type": "markdown",
   "metadata": {
    "deletable": true,
    "editable": true
   },
   "source": [
    "## V2 - Kollektorschaltung"
   ]
  },
  {
   "cell_type": "code",
   "execution_count": 109,
   "metadata": {
    "collapsed": false,
    "deletable": true,
    "editable": true
   },
   "outputs": [
    {
     "data": {
      "text/plain": [
       "array([ 0.004845,  0.00132 ,  0.00439 ,  0.005155])"
      ]
     },
     "execution_count": 109,
     "metadata": {},
     "output_type": "execute_result"
    }
   ],
   "source": [
    "init = np.array([7.69,0.64,6.78,8.31])\n",
    "init*.05/100+.001"
   ]
  },
  {
   "cell_type": "code",
   "execution_count": 110,
   "metadata": {
    "collapsed": false,
    "deletable": true,
    "editable": true
   },
   "outputs": [
    {
     "data": {
      "text/plain": [
       "<matplotlib.figure.Figure at 0x7f9285c0fbe0>"
      ]
     },
     "metadata": {},
     "output_type": "display_data"
    }
   ],
   "source": [
    "data2 = np.genfromtxt(\"2-freq.dat\", dtype=float, skip_header=0, delimiter=',')[2:]\n",
    "\n",
    "plotfreq(data2[:,0], data2[:,4], xerr=data2[:,1], yerr=data2[:,5],\\\n",
    "         xscale=\"log\", yscale=\"log\", xlabel=\"f / Hz\", ylabel=\"$V_{pp,out} / mV$\",\\\n",
    "         title=\"Frequenzgang der Ausgangsspannung $V_{pp,out}$\",\\\n",
    "         filename='2-freqU', yticks=[450, 500, 550, 600])\n",
    "plt.clf()"
   ]
  },
  {
   "cell_type": "code",
   "execution_count": 111,
   "metadata": {
    "collapsed": false,
    "deletable": true,
    "editable": true
   },
   "outputs": [
    {
     "data": {
      "text/plain": [
       "<matplotlib.figure.Figure at 0x7f92864f0cc0>"
      ]
     },
     "metadata": {},
     "output_type": "display_data"
    }
   ],
   "source": [
    "vppout = unumpy.uarray(data2[:,4],data2[:,5])\n",
    "vppin = unumpy.uarray(data2[:,2],data2[:,3])\n",
    "\n",
    "verst = vppout/vppin\n",
    "\n",
    "plotfreq(data2[:,0], [verst[i].n for i in range(len(verst))],\\\n",
    "         yerr=[verst[i].s for i in range(len(verst))], xerr=data2[:,1],\\\n",
    "         xscale=\"log\", yscale=\"log\", yticks=[.95+i*.05 for i in range(6)],\\\n",
    "         xlabel=\"f / Hz\", ylabel=\"$V_U$\", title=\"Frequenzgang der Verstärkung $V_U$\",\\\n",
    "         filename='2-freqV')\n",
    "plt.clf()\n",
    "#pd.DataFrame(verst)"
   ]
  },
  {
   "cell_type": "code",
   "execution_count": null,
   "metadata": {
    "collapsed": true,
    "deletable": true,
    "editable": true
   },
   "outputs": [],
   "source": []
  },
  {
   "cell_type": "code",
   "execution_count": null,
   "metadata": {
    "collapsed": true,
    "deletable": true,
    "editable": true
   },
   "outputs": [],
   "source": []
  },
  {
   "cell_type": "code",
   "execution_count": null,
   "metadata": {
    "collapsed": true
   },
   "outputs": [],
   "source": []
  }
 ],
 "metadata": {
  "kernelspec": {
   "display_name": "Python 3",
   "language": "python",
   "name": "python3"
  },
  "language_info": {
   "codemirror_mode": {
    "name": "ipython",
    "version": 3
   },
   "file_extension": ".py",
   "mimetype": "text/x-python",
   "name": "python",
   "nbconvert_exporter": "python",
   "pygments_lexer": "ipython3",
   "version": "3.6.0"
  }
 },
 "nbformat": 4,
 "nbformat_minor": 0
}
