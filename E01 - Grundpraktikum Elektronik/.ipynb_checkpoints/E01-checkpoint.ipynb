{
 "cells": [
  {
   "cell_type": "markdown",
   "metadata": {
    "deletable": true,
    "editable": true
   },
   "source": [
    "# Versuch E01 - Grundpraktikum Elektronik"
   ]
  },
  {
   "cell_type": "code",
   "execution_count": 68,
   "metadata": {
    "collapsed": false,
    "deletable": true,
    "editable": true
   },
   "outputs": [],
   "source": [
    "%matplotlib inline\n",
    "\n",
    "from uncertainties import unumpy,umath\n",
    "import pandas as pd\n",
    "import numpy as np\n",
    "import matplotlib.pyplot as plt\n",
    "import matplotlib.ticker as tck\n",
    "from scipy.optimize import curve_fit, minimize\n",
    "\n",
    "#print(plt.style.available)"
   ]
  },
  {
   "cell_type": "code",
   "execution_count": 2,
   "metadata": {
    "collapsed": true
   },
   "outputs": [],
   "source": [
    "def plotformat(xlabel='x', ylabel='y', xscale='linear', yscale='linear',\\\n",
    "             title='graph', filename='tmp', style='bmh', yticks=[], xticks=[],\\\n",
    "             formatter=tck.ScalarFormatter):\n",
    "    \n",
    "    plt.figure(figsize=(15,10))\n",
    "    ax = plt.gca()\n",
    "    plt.style.use(style)\n",
    "    \n",
    "    #plt.errorbar(x, y, xerr=xerr, yerr=yerr, fmt='.')\n",
    "    \n",
    "    plt.xscale(xscale)\n",
    "    plt.yscale(yscale)\n",
    "        \n",
    "    #ax.yaxis.set_major_formatter(tck.LogFormatter())\n",
    "    \n",
    "    for label in ax.yaxis.get_major_ticks():\n",
    "        label.\n",
    "        print(label.label1)\n",
    "    \n",
    "    if len(yticks) > 0:\n",
    "        plt.yticks(yticks)\n",
    "        plt.axes().get_yaxis().set_major_formatter(formatter())\n",
    "    if len(xticks) > 0:\n",
    "        plt.xticks(xticks)\n",
    "        plt.axes().get_xaxis().set_major_formatter(formatter())\n",
    "    \n",
    "    plt.xlabel(xlabel)\n",
    "    plt.ylabel(ylabel)\n",
    "    plt.title(title)\n",
    "    \n",
    "    #plt.savefig(filename+'.png')"
   ]
  },
  {
   "cell_type": "code",
   "execution_count": 29,
   "metadata": {
    "collapsed": false,
    "deletable": true,
    "editable": true
   },
   "outputs": [],
   "source": [
    "def fitfunc(freq, vumax, n1, n2, s1, s2):\n",
    "    return vumax/(np.sqrt(1+(freq/s1)**n1)*np.sqrt(1+(freq/s2)**n2))\n",
    "def fitfunc2(f, sx1, sx2, ox1, oy):\n",
    "    #-sy*np.e**(-(sx1*f)-ox1)-\n",
    "    return oy - np.e**(sx1*(-f+ox1)) - np.e**(sx2*f)+oy"
   ]
  },
  {
   "cell_type": "markdown",
   "metadata": {
    "deletable": true,
    "editable": true
   },
   "source": [
    "## V1 - Emitterschaltung\n",
    "### Freqeuenzgangmessung"
   ]
  },
  {
   "cell_type": "code",
   "execution_count": 4,
   "metadata": {
    "collapsed": false,
    "deletable": true,
    "editable": true
   },
   "outputs": [
    {
     "data": {
      "text/plain": [
       "array([ 0.004395 ,  0.0013075,  0.00497  ,  0.0014985,  0.0011935,  0.0046   ])"
      ]
     },
     "execution_count": 4,
     "metadata": {},
     "output_type": "execute_result"
    }
   ],
   "source": [
    "data = np.genfromtxt('1-freq.dat', dtype=float, skip_header=0, delimiter=',')[2:]\n",
    "\n",
    "# Inbetriebnahme und Vermessung\n",
    "init = np.array([6.79,0.615,7.94,0.997,0.387,7.20])\n",
    "init*.05/100+.001"
   ]
  },
  {
   "cell_type": "code",
   "execution_count": 100,
   "metadata": {
    "collapsed": false,
    "deletable": true,
    "editable": true
   },
   "outputs": [
    {
     "name": "stdout",
     "output_type": "stream",
     "text": [
      "Text(0,0,'')\n",
      "Text(0,0,'')\n",
      "Text(0,0,'')\n",
      "Text(0,0,'')\n",
      "Text(0,0,'')\n",
      "Text(0,0,'')\n"
     ]
    },
    {
     "data": {
      "text/plain": [
       "<matplotlib.figure.Figure at 0x7f1919f3a9e8>"
      ]
     },
     "metadata": {},
     "output_type": "display_data"
    }
   ],
   "source": [
    "plotformat(xlabel='f / Hz', ylabel='$V_{pp,out}$ / V', xscale='log', yscale='log',\\\n",
    "        title='Frequenzgang der Ausgangsspannung $V_{pp,out}$')\n",
    "plt.errorbar(data[:,0], data[:,4], xerr=data[:,1], yerr=data[:,5], fmt='.')\n",
    "plt.savefig('1-freqU.png')\n",
    "plt.clf()"
   ]
  },
  {
   "cell_type": "code",
   "execution_count": 99,
   "metadata": {
    "collapsed": false
   },
   "outputs": [
    {
     "name": "stdout",
     "output_type": "stream",
     "text": [
      "Text(0,0,'')\n",
      "Text(0,0,'')\n",
      "Text(0,0,'')\n",
      "Text(0,0,'')\n",
      "Text(0,0,'')\n",
      "Text(0,0,'')\n",
      "18.7441594033\n",
      "0.213354155725\n",
      "22.4573193783\n"
     ]
    },
    {
     "data": {
      "text/plain": [
       "<matplotlib.figure.Figure at 0x7f191a378a90>"
      ]
     },
     "metadata": {},
     "output_type": "display_data"
    }
   ],
   "source": [
    "vppin = unumpy.uarray(data[:,2],data[:,3])\n",
    "vppout = unumpy.uarray(data[:,4],data[:,5])\n",
    "\n",
    "verst = vppout/vppin*1000\n",
    "\n",
    "# 200Hz - 64kHz\n",
    "mean_verst = np.sum(unumpy.nominal_values(verst)[10:26])/16\n",
    "mean_verst_dev = np.sum(unumpy.std_devs(verst)[10:26])/16\n",
    "plotformat(xlabel='f / Hz', ylabel='$V_U$ / dB',\\\n",
    "           xscale='log', yscale='log',\\\n",
    "           title='Frequenzgang der Verstärkung $V_U$',\\\n",
    "           yticks=[6,8,10,12,14,16,18,20])\n",
    "        \n",
    "fitdata = np.logspace(1,6,1E3)\n",
    "db = lambda x: 20*np.log10(x)\n",
    "plt.plot(fitdata, db([mean_verst for i in range(len(fitdata))]), label='mittl. Verst.')\n",
    "plt.errorbar(data[:,0], db([verst[i].n for i in range(len(verst))]),\\\n",
    "             xerr=data[:,1],\\\n",
    "             yerr=db(unumpy.nominal_values(verst)+unumpy.std_devs(verst)) - db(unumpy.nominal_values(verst)),\\\n",
    "             fmt='.', label='Messwerte')\n",
    "plt.plot(fitdata, db([mean_verst for i in range(len(fitdata))])-3, label='Verst. -3dB')\n",
    "plt.grid(b=True, which='minor', color='gray', linestyle='--')\n",
    "print(mean_verst)\n",
    "print(mean_verst_dev)\n",
    "print(db(mean_verst)-3)\n",
    "plt.legend()\n",
    "plt.savefig('1-freqU.png')\n",
    "#pd.DataFrame(verst)\n",
    "plt.clf()"
   ]
  },
  {
   "cell_type": "markdown",
   "metadata": {},
   "source": [
    "### Eingangswiderstand"
   ]
  },
  {
   "cell_type": "code",
   "execution_count": 120,
   "metadata": {
    "collapsed": false
   },
   "outputs": [
    {
     "data": {
      "image/png": "[encoded data removed]",
      "text/plain": [
       "<matplotlib.figure.Figure at 0x7f19196fa1d0>"
      ]
     },
     "metadata": {},
     "output_type": "display_data"
    }
   ],
   "source": [
    "data = np.genfromtxt('1-einohm.dat', dtype=float, skip_header=0, delimiter=',')[2:]\n",
    "vppin = unumpy.uarray(data[:,2],data[:,3])\n",
    "vppout = unumpy.uarray(data[:,4],data[:,5])\n",
    "\n",
    "verst = vppout/vppin*1000\n",
    "pd.DataFrame(verst)\n",
    "plt.figure(figsize=(15,10))\n",
    "plt.errorbar(data[:,0], unumpy.nominal_values(verst), yerr=unumpy.std_devs(verst), fmt='.')\n",
    "\n",
    "lin = lambda x, m, c: m*x+c\n",
    "popt, pcov = curve_fit(lin, data[:,0], unumpy.nominal_values(verst),\\\n",
    "                       sigma=unumpy.std_devs(verst))\n",
    "fitdata = np.linspace(38, 48, 2)\n",
    "plt.plot(fitdata, lin(fitdata, *popt))\n",
    "\n",
    "x = (9.79-popt[1])/popt[0]\n",
    "plt.plot([x,x], [9.2, lin(x, *popt)], linestyle='--', color='gray')\n",
    "plt.plot([38,x], [lin(x, *popt), lin(x, *popt)], linestyle='--', color='gray')\n",
    "plt.ylim([9.2, 10.6])\n",
    "plt.xlim([38, 48])\n",
    "\n",
    "plt.savefig('1-einohm.png')"
   ]
  },
  {
   "cell_type": "markdown",
   "metadata": {},
   "source": [
    "### Ausgangswiderstand"
   ]
  },
  {
   "cell_type": "code",
   "execution_count": null,
   "metadata": {
    "collapsed": true,
    "deletable": true,
    "editable": true
   },
   "outputs": [],
   "source": []
  },
  {
   "cell_type": "markdown",
   "metadata": {
    "deletable": true,
    "editable": true
   },
   "source": [
    "## V2 - Kollektorschaltung"
   ]
  },
  {
   "cell_type": "code",
   "execution_count": null,
   "metadata": {
    "collapsed": false,
    "deletable": true,
    "editable": true
   },
   "outputs": [],
   "source": [
    "init = np.array([7.69,0.64,6.78,8.31])\n",
    "init*.05/100+.001"
   ]
  },
  {
   "cell_type": "code",
   "execution_count": null,
   "metadata": {
    "collapsed": false,
    "deletable": true,
    "editable": true
   },
   "outputs": [],
   "source": [
    "data2 = np.genfromtxt(\"2-freq.dat\", dtype=float, skip_header=0, delimiter=',')[2:]\n",
    "\n",
    "plotfreq(data2[:,0], data2[:,4], xerr=data2[:,1], yerr=data2[:,5],\\\n",
    "         xscale=\"log\", yscale=\"log\", xlabel=\"f / Hz\", ylabel=\"$V_{pp,out} / mV$\",\\\n",
    "         title=\"Frequenzgang der Ausgangsspannung $V_{pp,out}$\",\\\n",
    "         filename='2-freqU', yticks=[450, 500, 550, 600])\n",
    "plt.clf()"
   ]
  },
  {
   "cell_type": "code",
   "execution_count": null,
   "metadata": {
    "collapsed": false,
    "deletable": true,
    "editable": true
   },
   "outputs": [],
   "source": [
    "vppout = unumpy.uarray(data2[:,4],data2[:,5])\n",
    "vppin = unumpy.uarray(data2[:,2],data2[:,3])\n",
    "\n",
    "verst = vppout/vppin\n",
    "\n",
    "plotfreq(data2[:,0], [verst[i].n for i in range(len(verst))],\\\n",
    "         yerr=[verst[i].s for i in range(len(verst))], xerr=data2[:,1],\\\n",
    "         xscale=\"log\", yscale=\"log\", yticks=[.95+i*.05 for i in range(6)],\\\n",
    "         xlabel=\"f / Hz\", ylabel=\"$V_U$\", title=\"Frequenzgang der Verstärkung $V_U$\",\\\n",
    "         filename='2-freqV')\n",
    "plt.clf()\n",
    "#pd.DataFrame(verst)"
   ]
  },
  {
   "cell_type": "code",
   "execution_count": null,
   "metadata": {
    "collapsed": true,
    "deletable": true,
    "editable": true
   },
   "outputs": [],
   "source": []
  },
  {
   "cell_type": "code",
   "execution_count": null,
   "metadata": {
    "collapsed": true,
    "deletable": true,
    "editable": true
   },
   "outputs": [],
   "source": []
  },
  {
   "cell_type": "code",
   "execution_count": null,
   "metadata": {
    "collapsed": true,
    "deletable": true,
    "editable": true
   },
   "outputs": [],
   "source": []
  },
  {
   "cell_type": "code",
   "execution_count": null,
   "metadata": {
    "collapsed": true,
    "deletable": true,
    "editable": true
   },
   "outputs": [],
   "source": []
  }
 ],
 "metadata": {
  "kernelspec": {
   "display_name": "Python 3",
   "language": "python",
   "name": "python3"
  },
  "language_info": {
   "codemirror_mode": {
    "name": "ipython",
    "version": 3
   },
   "file_extension": ".py",
   "mimetype": "text/x-python",
   "name": "python",
   "nbconvert_exporter": "python",
   "pygments_lexer": "ipython3",
   "version": "3.6.0"
  }
 },
 "nbformat": 4,
 "nbformat_minor": 0
}
