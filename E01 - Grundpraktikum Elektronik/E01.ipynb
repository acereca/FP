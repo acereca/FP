{
 "cells": [
  {
   "cell_type": "markdown",
   "metadata": {
    "deletable": true,
    "editable": true
   },
   "source": [
    "# Versuch E01 - Grundpraktikum Elektronik"
   ]
  },
  {
   "cell_type": "code",
   "execution_count": 42,
   "metadata": {
    "collapsed": false,
    "deletable": true,
    "editable": true
   },
   "outputs": [],
   "source": [
    "%matplotlib inline\n",
    "\n",
    "from uncertainties import unumpy,umath\n",
    "from helper import *\n",
    "import pandas as pd\n",
    "import numpy as np\n",
    "import matplotlib.pyplot as plt\n",
    "import matplotlib.ticker as tck\n",
    "from scipy.optimize import curve_fit, minimize\n",
    "\n",
    "#print(plt.style.available)"
   ]
  },
  {
   "cell_type": "code",
   "execution_count": 43,
   "metadata": {
    "collapsed": false,
    "deletable": true,
    "editable": true
   },
   "outputs": [],
   "source": [
    "def plotformat(xlabel='x', ylabel='y', xscale='linear', yscale='linear',\\\n",
    "             title='graph', filename='tmp', style='bmh', yticks=[], xticks=[],\\\n",
    "             formatter=tck.ScalarFormatter):\n",
    "    \n",
    "    plt.figure(figsize=(15,10))\n",
    "    ax = plt.gca()\n",
    "    plt.style.use(style)\n",
    "    \n",
    "    #plt.errorbar(x, y, xerr=xerr, yerr=yerr, fmt='.')\n",
    "    \n",
    "    plt.xscale(xscale)\n",
    "    plt.yscale(yscale)\n",
    "        \n",
    "    #ax.yaxis.set_major_formatter(tck.LogFormatter())\n",
    "    \n",
    "    #for label in ax.yaxis.get_major_ticks():\n",
    "    #   print(label.label1)\n",
    "    \n",
    "    if len(yticks) > 0:\n",
    "        plt.yticks(yticks)\n",
    "        plt.axes().get_yaxis().set_major_formatter(formatter())\n",
    "    if len(xticks) > 0:\n",
    "        plt.xticks(xticks)\n",
    "        plt.axes().get_xaxis().set_major_formatter(formatter())\n",
    "    \n",
    "    plt.xlabel(xlabel)\n",
    "    plt.ylabel(ylabel)\n",
    "    plt.title(title)\n",
    "    \n",
    "    #plt.savefig(filename+'.png')"
   ]
  },
  {
   "cell_type": "code",
   "execution_count": 44,
   "metadata": {
    "collapsed": false,
    "deletable": true,
    "editable": true
   },
   "outputs": [],
   "source": [
    "def fitfunc(freq, vumax, n1, n2, s1, s2):\n",
    "    return vumax/(np.sqrt(1+(freq/s1)**n1)*np.sqrt(1+(freq/s2)**n2))\n",
    "def fitfunc2(f, sx1, sx2, ox1, oy):\n",
    "    #-sy*np.e**(-(sx1*f)-ox1)-\n",
    "    return oy - np.e**(sx1*(-f+ox1)) - np.e**(sx2*f)+oy"
   ]
  },
  {
   "cell_type": "markdown",
   "metadata": {
    "deletable": true,
    "editable": true
   },
   "source": [
    "## V1 - Emitterschaltung\n",
    "### Freqeuenzgangmessung"
   ]
  },
  {
   "cell_type": "code",
   "execution_count": 45,
   "metadata": {
    "collapsed": false,
    "deletable": true,
    "editable": true
   },
   "outputs": [
    {
     "data": {
      "text/html": [
       "<div>\n",
       "<table border=\"1\" class=\"dataframe\">\n",
       "  <thead>\n",
       "    <tr style=\"text-align: right;\">\n",
       "      <th></th>\n",
       "      <th>[V]</th>\n",
       "    </tr>\n",
       "  </thead>\n",
       "  <tbody>\n",
       "    <tr>\n",
       "      <th>$U_{CE}$</th>\n",
       "      <td>6.790+/-0.004</td>\n",
       "    </tr>\n",
       "    <tr>\n",
       "      <th>$U_{BE}$</th>\n",
       "      <td>0.6150+/-0.0013</td>\n",
       "    </tr>\n",
       "    <tr>\n",
       "      <th>$U_{RC}$</th>\n",
       "      <td>7.940+/-0.005</td>\n",
       "    </tr>\n",
       "    <tr>\n",
       "      <th>$U_{R2}$</th>\n",
       "      <td>0.9970+/-0.0015</td>\n",
       "    </tr>\n",
       "    <tr>\n",
       "      <th>$U_E$</th>\n",
       "      <td>0.3870+/-0.0012</td>\n",
       "    </tr>\n",
       "    <tr>\n",
       "      <th>$U_C$</th>\n",
       "      <td>7.200+/-0.005</td>\n",
       "    </tr>\n",
       "  </tbody>\n",
       "</table>\n",
       "</div>"
      ],
      "text/plain": [
       "                      [V]\n",
       "$U_{CE}$    6.790+/-0.004\n",
       "$U_{BE}$  0.6150+/-0.0013\n",
       "$U_{RC}$    7.940+/-0.005\n",
       "$U_{R2}$  0.9970+/-0.0015\n",
       "$U_E$     0.3870+/-0.0012\n",
       "$U_C$       7.200+/-0.005"
      ]
     },
     "execution_count": 45,
     "metadata": {},
     "output_type": "execute_result"
    }
   ],
   "source": [
    "data = np.genfromtxt('1-freq.dat', dtype=float, skip_header=0, delimiter=',')[2:]\n",
    "\n",
    "# Inbetriebnahme und Vermessung\n",
    "init_n = np.array([6.79,0.615,7.94,0.997,0.387,7.20])\n",
    "init =unumpy.uarray(init_n, init_n*.05/100+.001)\n",
    "pd.DataFrame(init, index=['$U_{CE}$','$U_{BE}$','$U_{RC}$','$U_{R2}$','$U_E$','$U_C$'], columns=['[V]'])"
   ]
  },
  {
   "cell_type": "code",
   "execution_count": 46,
   "metadata": {
    "collapsed": false,
    "deletable": true,
    "editable": true
   },
   "outputs": [
    {
     "data": {
      "text/plain": [
       "<matplotlib.figure.Figure at 0x7f33310b1ef0>"
      ]
     },
     "metadata": {},
     "output_type": "display_data"
    }
   ],
   "source": [
    "plotformat(xlabel='f / Hz', ylabel='$V_{pp,out}$ / V', xscale='log', yscale='log',\\\n",
    "        title='Frequenzgang der Ausgangsspannung $V_{pp,out}$')\n",
    "plt.errorbar(data[:,0], data[:,4], xerr=data[:,1], yerr=data[:,5], fmt='.')\n",
    "plt.savefig('1-freqU.png')\n",
    "plt.clf()"
   ]
  },
  {
   "cell_type": "code",
   "execution_count": 53,
   "metadata": {
    "collapsed": false,
    "deletable": true,
    "editable": true
   },
   "outputs": [
    {
     "data": {
      "text/latex": [
       "$$V_{U,mean} = (18.74\\pm0.21)\\ $$"
      ],
      "text/plain": [
       "<IPython.core.display.Math object>"
      ]
     },
     "metadata": {},
     "output_type": "display_data"
    },
    {
     "data": {
      "text/latex": [
       "$$V_{U,mean} = (25.46\\pm0.10)\\ dB$$"
      ],
      "text/plain": [
       "<IPython.core.display.Math object>"
      ]
     },
     "metadata": {},
     "output_type": "display_data"
    },
    {
     "data": {
      "text/plain": [
       "<matplotlib.figure.Figure at 0x7f3330d476d8>"
      ]
     },
     "metadata": {},
     "output_type": "display_data"
    }
   ],
   "source": [
    "vppin = unumpy.uarray(data[:,2],data[:,3])\n",
    "vppout = unumpy.uarray(data[:,4],data[:,5])\n",
    "\n",
    "verst = vppout/vppin*1000\n",
    "\n",
    "# 200Hz - 64kHz\n",
    "mean_verst = np.sum(unumpy.nominal_values(verst)[10:26])/16\n",
    "mean_verst_dev = np.sum(unumpy.std_devs(verst)[10:26])/16\n",
    "plotformat(xlabel='f / Hz', ylabel='$V_U$ / dB',\\\n",
    "           xscale='log', yscale='log',\\\n",
    "           title='Frequenzgang der Verstärkung $V_U$',\\\n",
    "           yticks=[14,16,18,22,24,26])\n",
    "        \n",
    "fitdata = np.logspace(1,6,1E3)\n",
    "db = lambda x: 20*np.log10(x)\n",
    "# mean\n",
    "plt.plot(fitdata, db([mean_verst for i in range(len(fitdata))]), label='mittl. Verst.')\n",
    "plt.annotate(r'(%.1f$\\pm$%.1f$)dB$' % (db(mean_verst), db(mean_verst+mean_verst_dev)-db(mean_verst)),\n",
    "             xy=(20, db(mean_verst)), xycoords='data',\n",
    "             xytext=(-50, 0), textcoords='offset points', fontsize=16,\n",
    "             bbox=dict(boxstyle=\"round\", fc=\"1\"))\n",
    "\n",
    "plt.errorbar(data[:,0], db([verst[i].n for i in range(len(verst))]),\\\n",
    "             xerr=data[:,1],\\\n",
    "             yerr=db(unumpy.nominal_values(verst)+unumpy.std_devs(verst)) - db(unumpy.nominal_values(verst)),\\\n",
    "             fmt='.', label='Messwerte')\n",
    "# mean -3dB\n",
    "plt.plot(fitdata, db([mean_verst for i in range(len(fitdata))])-3, label='mittl. Verst. -3dB')\n",
    "plt.annotate(r'(%.1f$\\pm$%.1f$)dB$' % (db(mean_verst)-3, db(mean_verst+mean_verst_dev)-db(mean_verst)),\n",
    "             xy=(100, db(mean_verst)-3), xycoords='data',\n",
    "             xytext=(0, 0), textcoords='offset points', fontsize=16,\n",
    "             bbox=dict(boxstyle=\"round\", fc=\"1\"))\n",
    "\n",
    "plt.grid(b=True, which='minor', color='gray', linestyle='--')\n",
    "\n",
    "pprint('V_{U,mean}', mean_verst, mean_verst_dev)\n",
    "pprint('V_{U,mean}', db(mean_verst), db(mean_verst_dev+mean_verst)-db(mean_verst), 'dB')\n",
    "#print(db(mean_verst)-3)\n",
    "leg = plt.legend()\n",
    "leg.get_frame().set_facecolor('white')\n",
    "plt.savefig('1-freqU.png')\n",
    "#pd.DataFrame(verst)\n",
    "plt.clf()"
   ]
  },
  {
   "cell_type": "markdown",
   "metadata": {
    "deletable": true,
    "editable": true
   },
   "source": [
    "### Eingangswiderstand"
   ]
  },
  {
   "cell_type": "code",
   "execution_count": 39,
   "metadata": {
    "collapsed": false,
    "deletable": true,
    "editable": true
   },
   "outputs": [
    {
     "data": {
      "text/latex": [
       "$$R_{Ein} = (43.92\\pm3.48)\\ k\\Omega$$"
      ],
      "text/plain": [
       "<IPython.core.display.Math object>"
      ]
     },
     "metadata": {},
     "output_type": "display_data"
    },
    {
     "data": {
      "text/plain": [
       "<matplotlib.figure.Figure at 0x7f3330837e80>"
      ]
     },
     "metadata": {},
     "output_type": "display_data"
    }
   ],
   "source": [
    "data = np.genfromtxt('1-einohm.dat', dtype=float, skip_header=0, delimiter=',')[2:]\n",
    "vppin = unumpy.uarray(data[:,2],data[:,3])\n",
    "vppout = unumpy.uarray(data[:,4],data[:,5])\n",
    "\n",
    "verst = vppout/vppin*1000\n",
    "pd.DataFrame(verst)\n",
    "plt.figure(figsize=(15,10))\n",
    "plt.errorbar(data[:,0], unumpy.nominal_values(verst), yerr=unumpy.std_devs(verst), fmt='.')\n",
    "\n",
    "lin = lambda x, m, c: m*x+c\n",
    "popt, pcov = curve_fit(lin, data[:,0], unumpy.nominal_values(verst),\\\n",
    "                       sigma=unumpy.std_devs(verst))\n",
    "fitdata = np.linspace(38, 48, 2)\n",
    "plt.plot(fitdata, lin(fitdata, *popt))\n",
    "\n",
    "params = unumpy.uarray(popt,np.sqrt(np.diag(pcov)))\n",
    "x = (9.79-popt[1])/popt[0]\n",
    "dx = (9.79-params[1])/params[0]\n",
    "plt.plot([x,x], [9.2, lin(x, *popt)], linestyle='--', color='gray')\n",
    "plt.plot([38,x], [lin(x, *popt), lin(x, *popt)], linestyle='--', color='gray')\n",
    "plt.ylim([9.2, 10.6])\n",
    "plt.xlim([38, 48])\n",
    "\n",
    "plt.annotate(r'(%.1f$\\pm$%.1f$)k\\Omega$' % (dx.n, dx.s),\n",
    "             xy=(x, 9.2), xycoords='data',\n",
    "             xytext=(-50, +30), textcoords='offset points', fontsize=16,\n",
    "             bbox=dict(boxstyle=\"round\", fc=\"1\"))\n",
    "plt.annotate(r'$\\frac{V_{U,max}}{2}$=%.2f' % (9.79),\n",
    "             xy=(39, 9.79), xycoords='data',\n",
    "             xytext=(-50, -5), textcoords='offset points', fontsize=16,\n",
    "             bbox=dict(boxstyle=\"round\", fc=\"1\"))\n",
    "plt.title('Bestimmung des Eingangswiderstandes $R_{Ein}$')\n",
    "plt.xlabel('$R_{pot} / k\\Omega$')\n",
    "plt.ylabel('$V_U$')\n",
    "plt.savefig('1-einohm.png')\n",
    "plt.clf()\n",
    "uprint('R_{Ein}',dx, 'k\\Omega')"
   ]
  },
  {
   "cell_type": "markdown",
   "metadata": {
    "deletable": true,
    "editable": true
   },
   "source": [
    "### Ausgangswiderstand"
   ]
  },
  {
   "cell_type": "code",
   "execution_count": 40,
   "metadata": {
    "collapsed": false,
    "deletable": true,
    "editable": true
   },
   "outputs": [
    {
     "data": {
      "text/latex": [
       "$$R_{Aus} = (8.02\\pm2.99)\\ k\\Omega$$"
      ],
      "text/plain": [
       "<IPython.core.display.Math object>"
      ]
     },
     "metadata": {},
     "output_type": "display_data"
    },
    {
     "data": {
      "text/plain": [
       "<matplotlib.figure.Figure at 0x7f3330837a20>"
      ]
     },
     "metadata": {},
     "output_type": "display_data"
    }
   ],
   "source": [
    "data = np.genfromtxt('1-ausohm.dat', dtype=float, skip_header=0, delimiter=',')[2:]\n",
    "vppin = unumpy.uarray(data[:,2],data[:,3])\n",
    "vppout = unumpy.uarray(data[:,4],data[:,5])\n",
    "\n",
    "verst = vppout/vppin*1000\n",
    "pd.DataFrame(verst)\n",
    "plt.figure(figsize=(15,10))\n",
    "plt.errorbar(data[:,0], unumpy.nominal_values(verst), yerr=unumpy.std_devs(verst), fmt='.')\n",
    "\n",
    "lin = lambda x, m, c: m*x+c\n",
    "popt, pcov = curve_fit(lin, data[:,0], unumpy.nominal_values(verst),\\\n",
    "                       sigma=unumpy.std_devs(verst))\n",
    "fitdata = np.linspace(6.25, 8.25, 2)\n",
    "plt.plot(fitdata, lin(fitdata, *popt))\n",
    "\n",
    "params = unumpy.uarray(popt,np.sqrt(np.diag(pcov)))\n",
    "x = (9.79-popt[1])/popt[0]\n",
    "dx = (9.79-params[1])/params[0]\n",
    "plt.plot([x,x], [7.7, lin(x, *popt)], linestyle='--', color='gray')\n",
    "plt.plot([6.25,x], [lin(x, *popt), lin(x, *popt)], linestyle='--', color='gray')\n",
    "plt.ylim([7.7, 10.5])\n",
    "plt.xlim([6.25, 8.25])\n",
    "\n",
    "plt.annotate(r'(%.1f$\\pm$%.1f$)k\\Omega$' % (dx.n, dx.s),\n",
    "             xy=(x, 8), xycoords='data',\n",
    "             xytext=(-50, +30), textcoords='offset points', fontsize=16,\n",
    "             bbox=dict(boxstyle=\"round\", fc=\"1\"))\n",
    "plt.annotate(r'$\\frac{V_{U,max}}{2}$=%.2f' % (9.79),\n",
    "             xy=(7, 9.79), xycoords='data',\n",
    "             xytext=(-50, -5), textcoords='offset points', fontsize=16,\n",
    "             bbox=dict(boxstyle=\"round\", fc=\"1\"))\n",
    "plt.title('Bestimmung des Ausgangswiderstandes $R_{Aus}$')\n",
    "plt.xlabel('$R_{pot} / k\\Omega$')\n",
    "plt.ylabel('$V_U$')\n",
    "plt.savefig('1-ausohm.png')\n",
    "plt.clf()\n",
    "uprint('R_{Aus}',dx,'k\\Omega')"
   ]
  },
  {
   "cell_type": "markdown",
   "metadata": {
    "deletable": true,
    "editable": true
   },
   "source": [
    "## V2 - Kollektorschaltung"
   ]
  },
  {
   "cell_type": "code",
   "execution_count": 9,
   "metadata": {
    "collapsed": false,
    "deletable": true,
    "editable": true
   },
   "outputs": [
    {
     "data": {
      "text/html": [
       "<div>\n",
       "<table border=\"1\" class=\"dataframe\">\n",
       "  <thead>\n",
       "    <tr style=\"text-align: right;\">\n",
       "      <th></th>\n",
       "      <th>[V]</th>\n",
       "    </tr>\n",
       "  </thead>\n",
       "  <tbody>\n",
       "    <tr>\n",
       "      <th>$U_{E}$</th>\n",
       "      <td>7.690+/-0.005</td>\n",
       "    </tr>\n",
       "    <tr>\n",
       "      <th>$U_{BE}$</th>\n",
       "      <td>0.6400+/-0.0013</td>\n",
       "    </tr>\n",
       "    <tr>\n",
       "      <th>$U_{R1}$</th>\n",
       "      <td>6.780+/-0.004</td>\n",
       "    </tr>\n",
       "    <tr>\n",
       "      <th>$U_{R2}$</th>\n",
       "      <td>8.310+/-0.005</td>\n",
       "    </tr>\n",
       "  </tbody>\n",
       "</table>\n",
       "</div>"
      ],
      "text/plain": [
       "                      [V]\n",
       "$U_{E}$     7.690+/-0.005\n",
       "$U_{BE}$  0.6400+/-0.0013\n",
       "$U_{R1}$    6.780+/-0.004\n",
       "$U_{R2}$    8.310+/-0.005"
      ]
     },
     "execution_count": 9,
     "metadata": {},
     "output_type": "execute_result"
    }
   ],
   "source": [
    "init_n = np.array([7.69,0.64,6.78,8.31])\n",
    "init = unumpy.uarray(init_n, init_n*.05/100+.001)\n",
    "\n",
    "pd.DataFrame(init, index=['$U_{E}$','$U_{BE}$','$U_{R1}$','$U_{R2}$'], columns=['[V]'])"
   ]
  },
  {
   "cell_type": "code",
   "execution_count": 10,
   "metadata": {
    "collapsed": false,
    "deletable": true,
    "editable": true
   },
   "outputs": [
    {
     "ename": "NameError",
     "evalue": "name 'plotfreq' is not defined",
     "output_type": "error",
     "traceback": [
      "\u001b[0;31m---------------------------------------------------------------------------\u001b[0m",
      "\u001b[0;31mNameError\u001b[0m                                 Traceback (most recent call last)",
      "\u001b[0;32m<ipython-input-10-ff57fc6381fc>\u001b[0m in \u001b[0;36m<module>\u001b[0;34m()\u001b[0m\n\u001b[1;32m      1\u001b[0m \u001b[0mdata2\u001b[0m \u001b[0;34m=\u001b[0m \u001b[0mnp\u001b[0m\u001b[0;34m.\u001b[0m\u001b[0mgenfromtxt\u001b[0m\u001b[0;34m(\u001b[0m\u001b[0;34m\"2-freq.dat\"\u001b[0m\u001b[0;34m,\u001b[0m \u001b[0mdtype\u001b[0m\u001b[0;34m=\u001b[0m\u001b[0mfloat\u001b[0m\u001b[0;34m,\u001b[0m \u001b[0mskip_header\u001b[0m\u001b[0;34m=\u001b[0m\u001b[0;36m0\u001b[0m\u001b[0;34m,\u001b[0m \u001b[0mdelimiter\u001b[0m\u001b[0;34m=\u001b[0m\u001b[0;34m','\u001b[0m\u001b[0;34m)\u001b[0m\u001b[0;34m[\u001b[0m\u001b[0;36m2\u001b[0m\u001b[0;34m:\u001b[0m\u001b[0;34m]\u001b[0m\u001b[0;34m\u001b[0m\u001b[0m\n\u001b[1;32m      2\u001b[0m \u001b[0;34m\u001b[0m\u001b[0m\n\u001b[0;32m----> 3\u001b[0;31m \u001b[0mplotfreq\u001b[0m\u001b[0;34m(\u001b[0m\u001b[0mdata2\u001b[0m\u001b[0;34m[\u001b[0m\u001b[0;34m:\u001b[0m\u001b[0;34m,\u001b[0m\u001b[0;36m0\u001b[0m\u001b[0;34m]\u001b[0m\u001b[0;34m,\u001b[0m \u001b[0mdata2\u001b[0m\u001b[0;34m[\u001b[0m\u001b[0;34m:\u001b[0m\u001b[0;34m,\u001b[0m\u001b[0;36m4\u001b[0m\u001b[0;34m]\u001b[0m\u001b[0;34m,\u001b[0m \u001b[0mxerr\u001b[0m\u001b[0;34m=\u001b[0m\u001b[0mdata2\u001b[0m\u001b[0;34m[\u001b[0m\u001b[0;34m:\u001b[0m\u001b[0;34m,\u001b[0m\u001b[0;36m1\u001b[0m\u001b[0;34m]\u001b[0m\u001b[0;34m,\u001b[0m \u001b[0myerr\u001b[0m\u001b[0;34m=\u001b[0m\u001b[0mdata2\u001b[0m\u001b[0;34m[\u001b[0m\u001b[0;34m:\u001b[0m\u001b[0;34m,\u001b[0m\u001b[0;36m5\u001b[0m\u001b[0;34m]\u001b[0m\u001b[0;34m,\u001b[0m         \u001b[0mxscale\u001b[0m\u001b[0;34m=\u001b[0m\u001b[0;34m\"log\"\u001b[0m\u001b[0;34m,\u001b[0m \u001b[0myscale\u001b[0m\u001b[0;34m=\u001b[0m\u001b[0;34m\"log\"\u001b[0m\u001b[0;34m,\u001b[0m \u001b[0mxlabel\u001b[0m\u001b[0;34m=\u001b[0m\u001b[0;34m\"f / Hz\"\u001b[0m\u001b[0;34m,\u001b[0m \u001b[0mylabel\u001b[0m\u001b[0;34m=\u001b[0m\u001b[0;34m\"$V_{pp,out} / mV$\"\u001b[0m\u001b[0;34m,\u001b[0m         \u001b[0mtitle\u001b[0m\u001b[0;34m=\u001b[0m\u001b[0;34m\"Frequenzgang der Ausgangsspannung $V_{pp,out}$\"\u001b[0m\u001b[0;34m,\u001b[0m         \u001b[0mfilename\u001b[0m\u001b[0;34m=\u001b[0m\u001b[0;34m'2-freqU'\u001b[0m\u001b[0;34m,\u001b[0m \u001b[0myticks\u001b[0m\u001b[0;34m=\u001b[0m\u001b[0;34m[\u001b[0m\u001b[0;36m450\u001b[0m\u001b[0;34m,\u001b[0m \u001b[0;36m500\u001b[0m\u001b[0;34m,\u001b[0m \u001b[0;36m550\u001b[0m\u001b[0;34m,\u001b[0m \u001b[0;36m600\u001b[0m\u001b[0;34m]\u001b[0m\u001b[0;34m)\u001b[0m\u001b[0;34m\u001b[0m\u001b[0m\n\u001b[0m\u001b[1;32m      4\u001b[0m \u001b[0mplt\u001b[0m\u001b[0;34m.\u001b[0m\u001b[0mclf\u001b[0m\u001b[0;34m(\u001b[0m\u001b[0;34m)\u001b[0m\u001b[0;34m\u001b[0m\u001b[0m\n",
      "\u001b[0;31mNameError\u001b[0m: name 'plotfreq' is not defined"
     ]
    }
   ],
   "source": [
    "data2 = np.genfromtxt(\"2-freq.dat\", dtype=float, skip_header=0, delimiter=',')[2:]\n",
    "\n",
    "plotfreq(data2[:,0], data2[:,4], xerr=data2[:,1], yerr=data2[:,5],\\\n",
    "         xscale=\"log\", yscale=\"log\", xlabel=\"f / Hz\", ylabel=\"$V_{pp,out} / mV$\",\\\n",
    "         title=\"Frequenzgang der Ausgangsspannung $V_{pp,out}$\",\\\n",
    "         filename='2-freqU', yticks=[450, 500, 550, 600])\n",
    "plt.clf()"
   ]
  },
  {
   "cell_type": "code",
   "execution_count": null,
   "metadata": {
    "collapsed": false,
    "deletable": true,
    "editable": true
   },
   "outputs": [],
   "source": [
    "vppout = unumpy.uarray(data2[:,4],data2[:,5])\n",
    "vppin = unumpy.uarray(data2[:,2],data2[:,3])\n",
    "\n",
    "verst = vppout/vppin\n",
    "\n",
    "plotfreq(data2[:,0], [verst[i].n for i in range(len(verst))],\\\n",
    "         yerr=[verst[i].s for i in range(len(verst))], xerr=data2[:,1],\\\n",
    "         xscale=\"log\", yscale=\"log\", yticks=[.95+i*.05 for i in range(6)],\\\n",
    "         xlabel=\"f / Hz\", ylabel=\"$V_U$\", title=\"Frequenzgang der Verstärkung $V_U$\",\\\n",
    "         filename='2-freqV')\n",
    "plt.clf()\n",
    "#pd.DataFrame(verst)"
   ]
  },
  {
   "cell_type": "code",
   "execution_count": null,
   "metadata": {
    "collapsed": true,
    "deletable": true,
    "editable": true
   },
   "outputs": [],
   "source": []
  },
  {
   "cell_type": "code",
   "execution_count": null,
   "metadata": {
    "collapsed": true,
    "deletable": true,
    "editable": true
   },
   "outputs": [],
   "source": []
  },
  {
   "cell_type": "code",
   "execution_count": null,
   "metadata": {
    "collapsed": true,
    "deletable": true,
    "editable": true
   },
   "outputs": [],
   "source": []
  },
  {
   "cell_type": "code",
   "execution_count": null,
   "metadata": {
    "collapsed": true,
    "deletable": true,
    "editable": true
   },
   "outputs": [],
   "source": []
  }
 ],
 "metadata": {
  "kernelspec": {
   "display_name": "Python 3",
   "language": "python",
   "name": "python3"
  },
  "language_info": {
   "codemirror_mode": {
    "name": "ipython",
    "version": 3
   },
   "file_extension": ".py",
   "mimetype": "text/x-python",
   "name": "python",
   "nbconvert_exporter": "python",
   "pygments_lexer": "ipython3",
   "version": "3.6.0"
  }
 },
 "nbformat": 4,
 "nbformat_minor": 0
}
